{
 "cells":[
  {
   "cell_type":"markdown",
   "source":[
    "# Data Science Project- Akiva Kleinerman\n",
    "\n",
    "\n",
    "This notebook will demonstrate how to use the code in my project and show an example of the output. \n",
    "\n",
    "The outputs will be found in the notebook itself and also in the \"output\" folder in the notebook files "
   ],
   "attachments":{
    
   },
   "metadata":{
    "datalore":{
     "node_id":"RaHcrtamX3XPGTCDCRbSsw",
     "type":"MD",
     "hide_input_from_viewers":false,
     "hide_output_from_viewers":false
    }
   }
  },
  {
   "cell_type":"markdown",
   "source":[
    "### Initial Steps \n",
    "\n",
    "First, we will import and add a few configurations (from the Configuration file).\n",
    "\n",
    "In this project, we use XGBoost for both classification and regression problems. We do not compare between XGBoost and other models, neither experiment it's hyper-parameters, because this is not the focus of our project"
   ],
   "attachments":{
    
   },
   "metadata":{
    "datalore":{
     "node_id":"wXa1HwmJcxRTAFSTAjOaax",
     "type":"MD",
     "hide_input_from_viewers":false,
     "hide_output_from_viewers":false
    }
   }
  },
  {
   "cell_type":"code",
   "source":[
    "from xgboost import XGBRegressor, XGBClassifier\n",
    "\n",
    "\n",
    "\n",
    "REGRESSIOM_MODEL= XGBRegressor(use_label_encoder =False,verbosity = 0)\n",
    "CLASSIFICATION_MODEL= XGBClassifier(use_label_encoder =False,verbosity = 0)\n",
    "TREATMENT_METHODS=[\"drop\", \"median_replaced\", \"capped_floored\"]\n",
    "UNIVARIATE_DETECTION_METHODS=[\"mad\", \"percentile\", \"iqr\"]\n",
    "\n",
    "#Number of folds- this defines the number of folds. The test set's size is 1\/FOLD_K of the original dataset\n",
    "FOLD_K= 6"
   ],
   "execution_count":12,
   "outputs":[
    
   ],
   "metadata":{
    "datalore":{
     "node_id":"AseDNZMz5GEMhdfUSiZVgA",
     "type":"CODE",
     "hide_input_from_viewers":false,
     "hide_output_from_viewers":false
    }
   }
  },
  {
   "cell_type":"code",
   "source":[
    "\n",
    "# evaluate model performance with outliers removed using isolation forest\n",
    "\n",
    "import os\n",
    "import time\n"
   ],
   "execution_count":13,
   "outputs":[
    
   ],
   "metadata":{
    "datalore":{
     "node_id":"6y8dHSKm01C5BGSCSYNULR",
     "type":"CODE",
     "hide_input_from_viewers":false,
     "hide_output_from_viewers":false
    }
   }
  },
  {
   "cell_type":"code",
   "source":[
    "# create a directory for the results and create files for the output\n",
    "outdir = os.getcwd() + '\/output\/' + str(time.time())\n",
    "if not os.path.exists(outdir):\n",
    "    os.umask(0)\n",
    "    os.makedirs(outdir)\n",
    "f = open(outdir + '\/results.csv', 'w')\n",
    "f2 = open(outdir + '\/iterations.csv', 'w')"
   ],
   "execution_count":14,
   "outputs":[
    
   ],
   "metadata":{
    "datalore":{
     "node_id":"IqEGEaDpsxZdiySwhejDsK",
     "type":"CODE",
     "hide_input_from_viewers":false,
     "hide_output_from_viewers":false
    }
   }
  },
  {
   "cell_type":"markdown",
   "source":[
    "**K-Fold flag:**  This variable is a binary flag- indicating if we use k-fold. In this notebook- for limiting runtime we do **not** use k-fold cross-validation . But using k fold is recommended, and the default in the github code"
   ],
   "attachments":{
    
   },
   "metadata":{
    "datalore":{
     "node_id":"B0ZEe4ZZPobVIfP4YAZFCM",
     "type":"MD",
     "hide_input_from_viewers":false,
     "hide_output_from_viewers":false
    }
   }
  },
  {
   "cell_type":"code",
   "source":[
    "# A binary flag- when True- use K-fold, otherwise only run once (on first fold)\n",
    "USE_K_FOLD= False"
   ],
   "execution_count":15,
   "outputs":[
    
   ],
   "metadata":{
    "datalore":{
     "node_id":"J6vAOaZcVdjphclrDAzR6F",
     "type":"CODE",
     "hide_input_from_viewers":false,
     "hide_output_from_viewers":false
    }
   }
  },
  {
   "cell_type":"markdown",
   "source":[
    "# Univariate Outlier Detection Methods\n",
    "Here we implement three common and basic methods for detecting univariate outliers : 1) median absoulute deviation 2)  percentile based 3) IQR based. \n",
    "We use constant common thresholds, defined below"
   ],
   "attachments":{
    
   },
   "metadata":{
    "datalore":{
     "node_id":"9pkaj32HI6jPGLn7MDidK6",
     "type":"MD",
     "hide_input_from_viewers":false,
     "hide_output_from_viewers":false
    }
   }
  },
  {
   "cell_type":"code",
   "source":[
    "IQR_THRESHOLD=1.5\n",
    "PERCENTILE_THRESHOLD= 99\n",
    "MAD_THRESHOLD= 3.5\n",
    "\n",
    "\n",
    "def mad_based_outlier(data, thresh=MAD_THRESHOLD):\n",
    "    import warnings\n",
    "    with warnings.catch_warnings():\n",
    "        warnings.simplefilter('ignore')\n",
    "        if len(data.shape) == 1:\n",
    "            data = data[:, None]\n",
    "        median = np.median(data, axis=0)\n",
    "        diff = np.sum((data - median) ** 2, axis=-1)\n",
    "        diff = np.sqrt(diff)\n",
    "        med_abs_deviation = np.median(diff)\n",
    "        if(med_abs_deviation==0):\n",
    "            med_abs_deviation=0.1 #todo- wanted to avoid division by zero, dirty- need to think why this happens\n",
    "        modified_z_score = 0.6745 * diff \/ med_abs_deviation\n",
    "        return modified_z_score < thresh\n",
    "\n",
    "\n",
    "def percentile_based_outlier(data, threshold=PERCENTILE_THRESHOLD):\n",
    "    diff = (100 - threshold) \/ 2.0\n",
    "    minval, maxval = np.percentile(data, [diff, 100 - diff])\n",
    "    return list((data > minval) | (data < maxval))\n",
    "\n",
    "\n",
    "def univariate_outlier_mask(data, method):\n",
    "    if(method== \"mad\"):\n",
    "        return mad_based_outlier(data)\n",
    "    elif(method== \"percentile\"):\n",
    "        return percentile_based_outlier(data)\n",
    "    elif(method== \"iqr\"):\n",
    "        return iqr_anomaly_detector(data)\n",
    "\n",
    "\n",
    "def iqr_anomaly_detector(data, threshold=IQR_THRESHOLD):\n",
    "    def find_anomalies(value, lower_threshold, upper_threshold):\n",
    "        if value < lower_threshold or value > upper_threshold:\n",
    "            return False\n",
    "        else:\n",
    "            return True\n",
    "    quartiles = dict(data.quantile([.25, .50, .75]))\n",
    "    quartile_3, quartile_1 = quartiles[0.75], quartiles[0.25]\n",
    "    iqr = quartile_3 - quartile_1\n",
    "    lower_threshold = quartile_1 - (threshold * iqr)\n",
    "    upper_threshold = quartile_3 + (threshold * iqr)\n",
    "    #print(f\"Lower threshold_factor: {lower_threshold}, \\nUpper threshold_factor: {upper_threshold}\\n\")\n",
    "    return list(data.apply(find_anomalies, args=(lower_threshold, upper_threshold)))"
   ],
   "execution_count":16,
   "outputs":[
    
   ],
   "metadata":{
    "datalore":{
     "node_id":"kUisNasNjAw5gWBGKuvlQn",
     "type":"CODE",
     "hide_input_from_viewers":false,
     "hide_output_from_viewers":false
    }
   }
  },
  {
   "cell_type":"markdown",
   "source":[
    "# Multivariate Outlier Detection Methods"
   ],
   "attachments":{
    
   },
   "metadata":{
    "datalore":{
     "node_id":"a7PjE0zBCI6aga6cTOpc4f",
     "type":"MD",
     "hide_input_from_viewers":false,
     "hide_output_from_viewers":false
    }
   }
  },
  {
   "cell_type":"code",
   "source":[
    "from sklearn.covariance import EllipticEnvelope\n",
    "from sklearn.ensemble import IsolationForest\n",
    "from sklearn.neighbors import LocalOutlierFactor\n",
    "from sklearn.svm import OneClassSVM\n",
    "# Data processing\n",
    "# Model\n",
    "from sklearn.mixture import GaussianMixture\n",
    "\n",
    "# the function receives a train set and returns a dictionary including filtering masks of\n",
    "# the data according to various multivariate outlier detection methods\n",
    "def identify_multivariate_outliers(X_train):\n",
    "    outlier_models= {\"isolation forest\": IsolationForest(contamination=0.1),\"ellipicit_envelope\":EllipticEnvelope(contamination=0.01),\n",
    "                     \"local outlier factor\": LocalOutlierFactor(), \"one class svm\": OneClassSVM(nu=0.01)}\n",
    "    outlier_masks={}\n",
    "    for model_name in outlier_models:\n",
    "        yhat = outlier_models[model_name].fit_predict(X_train)\n",
    "        # select all rows that are not outliers\n",
    "        mask = yhat != -1\n",
    "        outlier_masks[model_name]= mask\n",
    "    outlier_masks[\"guassian_model\"]= guassian_mixtures_based_outlier_detection(X_train)\n",
    "    return outlier_masks\n",
    "\n",
    "\"\"\"\n",
    "This function uses the Gussian mixture model in order to find clusters of (multi-dimensional) data. \n",
    "The smales that are furthest from the clusters are marked as outliers \n",
    "\"\"\"\n",
    "def guassian_mixtures_based_outlier_detection(X_train, threshold_factor=5):\n",
    "    # create GMM model\n",
    "    gmm = GaussianMixture(n_components=3, n_init=5, random_state=42)\n",
    "    # Fit and predict on the data\n",
    "    gmm.fit_predict(X_train)\n",
    "    #  Predict Anomalies Using Percentage Threshold\n",
    "    score = gmm.score_samples(X_train)\n",
    "    # Get the score threshold_factor for anomaly\n",
    "    pct_threshold = np.percentile(score, threshold_factor)\n",
    "    mask = score > pct_threshold\n",
    "    return mask"
   ],
   "execution_count":17,
   "outputs":[
    
   ],
   "metadata":{
    "datalore":{
     "node_id":"fMId3CQZQSi1udseNV4crZ",
     "type":"CODE",
     "hide_input_from_viewers":false,
     "hide_output_from_viewers":false
    }
   }
  },
  {
   "cell_type":"markdown",
   "source":[
    "# Univariate Outlier Treatment"
   ],
   "attachments":{
    
   },
   "metadata":{
    "datalore":{
     "node_id":"TTtw9V2aB8tqhVfljYdJJJ",
     "type":"MD",
     "hide_input_from_viewers":false,
     "hide_output_from_viewers":false
    }
   }
  },
  {
   "cell_type":"markdown",
   "source":[
    "Here we implement two common and basic methods for *treating* univariate outliers : 1) replacing by median 2) flooring and capping"
   ],
   "attachments":{
    
   },
   "metadata":{
    "datalore":{
     "node_id":"B3xJ7ObRe2NedXEpQDdkJM",
     "type":"MD",
     "hide_input_from_viewers":false,
     "hide_output_from_viewers":false
    }
   }
  },
  {
   "cell_type":"code",
   "source":[
    "import warnings\n",
    "from pandas.core.common import SettingWithCopyWarning\n",
    "warnings.simplefilter(action=\"ignore\", category=SettingWithCopyWarning)\n",
    "\n",
    "def replace_outlier_by_median(df, column, outlier):\n",
    "    new_df= df\n",
    "    median= df[column].median()\n",
    "    #df.loc[[~b for b in outlier], column] = median\n",
    "    #df[column] = np.where([~b for b in outlier], median, df[column])\n",
    "    import warnings\n",
    "    with warnings.catch_warnings():\n",
    "        warnings.simplefilter('ignore')\n",
    "        new_df[column]= new_df[column].where(outlier, other=median)\n",
    "    return new_df\n",
    "\n",
    "\n",
    "def replace_outlier_by_flooring_and_capping(df, column, outlier, min_percentile=0.01, top_percentile= 0.99):\n",
    "    median= df[column].median()\n",
    "    temp_df= df\n",
    "    temp_df[\"outlier\"]= outlier\n",
    "    percentiles = df[column].quantile([min_percentile, top_percentile]).values\n",
    "    import warnings\n",
    "    with warnings.catch_warnings():\n",
    "        warnings.simplefilter('ignore')\n",
    "        temp_df[column][(temp_df[column] > median ) & (temp_df [\"outlier\"]== False)]= percentiles[0]\n",
    "        temp_df[column][(temp_df[column] < median ) & (temp_df [\"outlier\"]== False)]= percentiles[1]\n",
    "    return temp_df.drop([\"outlier\"], axis=1)\n",
    "\n",
    "\n",
    "def get_treated_datasets(X_train_copy, col, outlier_mask, y_train_copy, treatment_methods= [\"drop\", \"median\", \"floored_and_capped\"]):\n",
    "    new_datasets_dict={}\n",
    "    if(\"drop\" in treatment_methods):\n",
    "        X_train_masked, y_train_masked = X_train_copy.iloc[outlier_mask, :], y_train_copy.iloc[outlier_mask]\n",
    "        new_datasets_dict[\"drop\"]= [X_train_masked, y_train_masked]\n",
    "    if(\"median\" in treatment_methods):\n",
    "        X_train_median_replaced = replace_outlier_by_median(X_train_copy.copy(), col, outlier_mask)\n",
    "        new_datasets_dict[\"median\"]= [X_train_median_replaced, y_train_copy]\n",
    "    if(\"floored_and_capped\" in treatment_methods):\n",
    "        X_train_capped_and_floored = replace_outlier_by_flooring_and_capping(X_train_copy.copy(), col, outlier_mask)\n",
    "        new_datasets_dict[\"floored_and_capped\"]= [X_train_capped_and_floored, y_train_copy]\n",
    "    # if (detection_method == \"percentile\"):\n",
    "    #     X_train_capped = quantile_based_flooring_and_capping(X_train_copy, col)\n",
    "    #     new_datasets_dict[\"capped_floored\"] = [X_train_capped, y_train_copy]\n",
    "    #     # summarize the shape of the updated training dataset\n",
    "    return new_datasets_dict"
   ],
   "execution_count":18,
   "outputs":[
    
   ],
   "metadata":{
    "datalore":{
     "node_id":"vFTXqfkLS5WRVzzzXDTnve",
     "type":"CODE",
     "hide_input_from_viewers":false,
     "hide_output_from_viewers":false
    }
   }
  },
  {
   "cell_type":"markdown",
   "source":[
    "## A few more general helper functions"
   ],
   "attachments":{
    
   },
   "metadata":{
    "datalore":{
     "node_id":"EsTN65wMJL7wNsO9rZ9y9m",
     "type":"MD",
     "hide_input_from_viewers":false,
     "hide_output_from_viewers":false
    }
   }
  },
  {
   "cell_type":"code",
   "source":[
    "\n",
    "\"\"\"\n",
    "The function splits the dataset in samples and labels \n",
    "the name of the label may be in the metadata (Configuration file)\n",
    "by default- we assume it is the last column\n",
    "\n",
    "input: df- the dataframe (pandas), info- the metadata\n",
    "output- X,y - two dataframes \n",
    "\"\"\"\n",
    "def split_into_X_and_y(df, info):\n",
    "    if \"label\" in info:\n",
    "        return df.drop([info[\"label\"]], axis=1), df[info[\"label\"]]\n",
    "    else:\n",
    "        return df[list(df.columns)[:-1]], df[list(df.columns)[-1]]\n",
    "\n",
    "\n",
    "\n",
    "def accuracy_was_improved(best_accuracy_for_col, best_accuracy_for_round, best_accuracy_global, IS_REGRESSION):\n",
    "    if (IS_REGRESSION and best_accuracy_for_col < best_accuracy_global and best_accuracy_for_col < best_accuracy_for_round) :\n",
    "        return True\n",
    "    if(not IS_REGRESSION and best_accuracy_for_col > best_accuracy_global and best_accuracy_for_col > best_accuracy_for_round):\n",
    "        return True\n",
    "    return False\n",
    "\n",
    "\n",
    "def get_best_result(col_results, IS_REGRESSION):\n",
    "    if IS_REGRESSION:\n",
    "        return min(enumerate(col_results.values()),key=itemgetter(1))\n",
    "    else:\n",
    "        return max( enumerate(col_results.values()), key=itemgetter(1))\n",
    "\n",
    "\n",
    "\"\"\"\n",
    "The function gets a dataset and  one column from the dataset, with the column's outliers and the expected treatment\n",
    "The function returns that the dataset after treating the outlier \n",
    "\"\"\"\n",
    "def treat_best_column(X_train_copy, best_column_treatment, col, outlier_mask, y_train_copy):\n",
    "    if (best_column_treatment == \"drop\"):\n",
    "        X_train_copy, y_train_copy = X_train_copy.iloc[outlier_mask, :], y_train_copy.iloc[\n",
    "            outlier_mask]\n",
    "    elif (best_column_treatment == \"median\"):\n",
    "        X_train_copy = replace_outlier_by_median(X_train_copy.copy(), col, outlier_mask)\n",
    "    else:\n",
    "        X_train_copy = replace_outlier_by_flooring_and_capping(X_train_copy.copy(), col, outlier_mask)\n",
    "    return X_train_copy, y_train_copy\n",
    "\n",
    "\n",
    "def evaluate_regression_model(predictions,y_test):\n",
    "    return mean_absolute_error(predictions, y_test)\n",
    "\n",
    "\n",
    "# Evaluate the classifcation model and return the AUC, precision and recall \n",
    "def evaluate_classification_model(predictions,y_test):\n",
    "    precision_w = precision_score(y_test, predictions, average='weighted')\n",
    "    recall_w = recall_score(y_test, predictions, average='weighted')\n",
    "    auc= roc_auc_score(y_test, predictions)\n",
    "    return auc, precision_w, recall_w\n",
    "\n",
    "# A simple imputer for missing data. Meanwhile using mean imputation\n",
    "def impute(df):\n",
    "    simple_imputer = SimpleImputer(strategy=\"mean\", missing_values=np.nan)\n",
    "    imputed_df= pd.DataFrame(simple_imputer.fit_transform(df))\n",
    "    imputed_df.columns = df.columns\n",
    "    imputed_df.index = df.index\n",
    "    return  imputed_df\n",
    "\n",
    "\n",
    "\n",
    "\"\"\"\n",
    "The function get a dataset, after splitting to train-test and a prediction model\n",
    " The function fits and  evaluates the model with the given dataset and returns the accuracy\n",
    "  \n",
    "\"\"\"\n",
    "def fit_model_and_evaluate_accuracy( X_train,y_train,  X_test,y_test, model, IS_REGRESSION):\n",
    "    # fit the model\n",
    "    model.fit(X_train, y_train)\n",
    "    # evaluate the model\n",
    "    yhat = model.predict(X_test)\n",
    "    # evaluate predictions\n",
    "    if (IS_REGRESSION):\n",
    "        accuracy = evaluate_regression_model(yhat, y_test)\n",
    "    else:\n",
    "        auc, precision, recall = evaluate_classification_model(yhat, y_test)\n",
    "        accuracy = auc\n",
    "    return accuracy\n"
   ],
   "execution_count":19,
   "outputs":[
    
   ],
   "metadata":{
    "datalore":{
     "node_id":"RmIG6RTv0UPZQu7abPXqCu",
     "type":"CODE",
     "hide_input_from_viewers":false,
     "hide_output_from_viewers":false
    }
   }
  },
  {
   "cell_type":"markdown",
   "source":[
    "# The Iterative Univariate Outlier Process\n",
    "the main function\n",
    "The function iteratively finds the best columns to treat and then performs the outlier treatments. For each column- the function tries all combinations of detection and treatment functions. See the article for the psuedo code and  more details"
   ],
   "attachments":{
    
   },
   "metadata":{
    "datalore":{
     "node_id":"xks571TcwHf8YJAUe8zkul",
     "type":"MD",
     "hide_input_from_viewers":false,
     "hide_output_from_viewers":false
    }
   }
  },
  {
   "cell_type":"code",
   "source":[
    "\n",
    "\"\"\"\"\n",
    "univariate outliers treatment \n",
    "\n",
    "The function implements the Iterative Univaraite Outlier Process\n",
    "Input:\n",
    "The function recieves the dataset divided into train and test (X_train, X_test, y_train, y_test,)\n",
    "In \n",
    "\n",
    "\"\"\"\n",
    "def univariate_outliers(X_train, X_test, y_train, y_test, columns, model, IS_REGRESSION,\n",
    "                        outlier_detecting_methods=[\"mad\", \"percentile\", \"iqr\"],\n",
    "                        outlier_treating_methods=[\"drop\", \"median\", \"floored_and_capped\"]):\n",
    "\n",
    "    filtered_columns_dict = {}\n",
    "    filtered_col = []\n",
    "    improved_flag = True\n",
    "    # best_accuracy_global- the best accuracy found in all iterations\n",
    "    best_accuracy_global = np.infty if IS_REGRESSION else 0\n",
    "    X_train_copy, y_train_copy = X_train, y_train\n",
    "    # The main iteration loop: as long as their are more columns to try filtering, and as long a the previous iteration improved\n",
    "    iteration_n= 1\n",
    "    while len(filtered_col) < len(columns) and improved_flag:\n",
    "        # best_accuracy_for_round- the best accuracy in the current iteration\n",
    "        print(\"iteration  #\"+ str(iteration_n)+ \" --->\")\n",
    "        best_accuracy_for_round = np.infty if IS_REGRESSION else 0\n",
    "        best_col = None\n",
    "        improved_flag = False\n",
    "        for col in [c for c in columns if c not in filtered_col]:\n",
    "            data = X_train_copy[col]\n",
    "            # this dict will contain all the results for all combinations of detection and treating methods\n",
    "            col_results = {}\n",
    "            for detection_method in outlier_detecting_methods:\n",
    "                # get the outlier mask of current detection method\n",
    "                outlier_mask = univariate_outlier_mask(data, detection_method)\n",
    "                number_of_outliers = list(outlier_mask).count(False)\n",
    "                if (number_of_outliers > len(data) \/ 2):\n",
    "                    continue\n",
    "                treated_datasets_dict = get_treated_datasets(X_train_copy.copy(), col, outlier_mask,\n",
    "                                                             y_train_copy, outlier_treating_methods)\n",
    "                # try every possible treating method and save the accuracy\n",
    "                for outlier_treating_method, Xy_train in treated_datasets_dict.items():\n",
    "                    accuracy = fit_model_and_evaluate_accuracy(Xy_train[0], Xy_train[1], X_test, y_test, model,\n",
    "                                                               IS_REGRESSION)\n",
    "                    col_results[(detection_method, outlier_treating_method)] = accuracy\n",
    "                # choose the result of the best treatment (in terms of accuracy)\n",
    "            # find key and value of best result (min for regression and max for classification)\n",
    "            if len(col_results) == 0:\n",
    "                continue\n",
    "            index_of_best_combo, best_accuracy_for_col = get_best_result(col_results, IS_REGRESSION)\n",
    "\n",
    "            best_detection_and_treatment = list(col_results.keys())[index_of_best_combo]\n",
    "            if (accuracy_was_improved(best_accuracy_for_col,best_accuracy_for_round, best_accuracy_global, IS_REGRESSION )):\n",
    "                best_accuracy_for_round = best_accuracy_for_col\n",
    "                improved_flag = True\n",
    "                best_col = col\n",
    "                best_column_treatment_and_detection = best_detection_and_treatment\n",
    "                #best_outlier_mask= outlier_mask\n",
    "        # if found a way to improve prediction- meaning  that in this iteration we found a column\n",
    "        # that by treating it's outliiers- the prediction was improved.\n",
    "        iteration_n+=1\n",
    "        if improved_flag:\n",
    "            print(\"improvenemt found!\")\n",
    "            # get info about the best columns in this round\n",
    "            improvement = round(abs(best_accuracy_for_round - best_accuracy_global),4) # the delta of accuracy  improvement\n",
    "            best_accuracy_global = best_accuracy_for_round\n",
    "            best_column_detection = best_column_treatment_and_detection[0]\n",
    "            best_column_treatment = best_column_treatment_and_detection[1]\n",
    "            print(\"column: \"+ best_col+ \", detection method: \"+ best_column_detection+ \", treatment method: \"+ best_column_treatment)\n",
    "\n",
    "            print(\"improvenemt =\"+ str(improvement))\n",
    "            print(\"current AUC \"+ str(round(best_accuracy_global,3)))\n",
    "            # get  the outlier mask of the best detection method\n",
    "            outlier_mask = univariate_outlier_mask(X_train_copy[best_col], best_column_detection)\n",
    "            number_of_outliers = list(outlier_mask).count(False)\n",
    "            X_train_copy, y_train_copy = treat_best_column(X_train_copy, best_column_treatment, col, outlier_mask,\n",
    "                                                           y_train_copy)\n",
    "            filtered_col.append(best_col)\n",
    "            # save the information of the column that was treated in this iteration\n",
    "            filtered_columns_dict[best_col] = {\"column name\": best_col, \"number of outliers\": number_of_outliers,\n",
    "                                               \"best detection\": best_column_detection,\n",
    "                                               \"best treatment\": best_column_treatment,\n",
    "                                               \"performance after treating\": best_accuracy_global,\n",
    "                                               \"improvement\": improvement}\n",
    "        else:\n",
    "            print(\"no improvenemt- the process  halted\")\n",
    "    return best_accuracy_global, filtered_col, filtered_columns_dict"
   ],
   "execution_count":20,
   "outputs":[
    
   ],
   "metadata":{
    "datalore":{
     "node_id":"rU0VWr7V1N8GhyfUCjwyN2",
     "type":"CODE",
     "hide_input_from_viewers":false,
     "hide_output_from_viewers":false
    }
   }
  },
  {
   "cell_type":"markdown",
   "source":[
    "## Multivariate Methods Comparison"
   ],
   "attachments":{
    
   },
   "metadata":{
    "datalore":{
     "node_id":"y0tsXbBHAhejWInmJkwJGR",
     "type":"MD",
     "hide_input_from_viewers":false,
     "hide_output_from_viewers":false
    }
   }
  },
  {
   "cell_type":"code",
   "source":[
    "\"\"\"\n",
    "The function gets a dataset and tries various methods for multivariate outlier detection. For each method- the\n",
    "function drops the outliers and evaluates a given prediciton model with the modified dataset.\n",
    "\n",
    "The function return the method that that gave the best accuracy results and the accuracy itself. In addition in \n",
    "return the number of outlier that were detected (and dropped) \"\"\"\n",
    "def multivariate_outliers(IS_REGRESSION, X_test, X_train, model, y_test, y_train):\n",
    "    number_of_outliers_dict={}\n",
    "    outlier_masks = identify_multivariate_outliers(X_train)\n",
    "    X_train_copy, y_train_copy = X_train, y_train\n",
    "    method_performance_dict = {}\n",
    "    # for each possible detection detection_method- evaluate the model\n",
    "    for detection_method, outlier_mask in outlier_masks.items():\n",
    "        print(\"*** \"+detection_method+\"***\")\n",
    "        number_of_outliers = list(outlier_mask).count(False)\n",
    "        print(\"number of outliers :\"+ str(number_of_outliers))\n",
    "\n",
    "        #print(list(outlier_mask).count(False))\n",
    "        number_of_outliers_dict[detection_method]= number_of_outliers\n",
    "        X_train_masked, y_train_masked = X_train_copy.iloc[outlier_mask, :], y_train_copy.iloc[outlier_mask]\n",
    "        if (len(X_train_masked) < 100):\n",
    "            continue\n",
    "        accuracy = fit_model_and_evaluate_accuracy(X_train_masked, y_train_masked, X_test, y_test, model, IS_REGRESSION)\n",
    "        \n",
    "        print(\"accuracy after dropping outliers :\"+ str(round(accuracy,3)))\n",
    "\n",
    "        # fit the model\n",
    "        method_performance_dict[detection_method] = accuracy\n",
    "    sorted_performance = {k: v for k, v in sorted(method_performance_dict.items(), key=lambda item: item[1])}\n",
    "    if (IS_REGRESSION):\n",
    "        best_method, best_result = list(sorted_performance.items())[0]\n",
    "    else:\n",
    "        best_method, best_result = list(sorted_performance.items())[-1]\n",
    "    return best_method, best_result, number_of_outliers_dict"
   ],
   "execution_count":21,
   "outputs":[
    
   ],
   "metadata":{
    "datalore":{
     "node_id":"OX3IdvYGA4o3VMX5gGOYFC",
     "type":"CODE",
     "hide_input_from_viewers":false,
     "hide_output_from_viewers":false
    }
   }
  },
  {
   "cell_type":"markdown",
   "source":[
    "## Unifying All Outlier Handling From One Function"
   ],
   "attachments":{
    
   },
   "metadata":{
    "datalore":{
     "node_id":"AWjDWiRavBnIkqGJBeHWqD",
     "type":"MD",
     "hide_input_from_viewers":false,
     "hide_output_from_viewers":false
    }
   }
  },
  {
   "cell_type":"code",
   "source":[
    "\n",
    "import  pandas as pd\n",
    "from pandas import read_csv\n",
    "from sklearn.model_selection import  KFold\n",
    "from sklearn.impute import SimpleImputer\n",
    "from sklearn.metrics import mean_absolute_error, precision_score, roc_auc_score, recall_score\n",
    "import numpy as np\n",
    "from operator import itemgetter\n",
    "\n",
    "\"\"\"\n",
    "The detect_and_treat_outliers function receives a dataset and combines both multivariate and univariate outlier handling.\n",
    "All the results and the process are printed into the consile and into the output directory.\n",
    "\"\"\"\n",
    "def detect_and_treat_outliers( X, y, IS_REGRESSION):\n",
    "    best_results={}\n",
    "    print(\"***************************************************************\")\n",
    "    #select the model to use for evaluation\n",
    "    model= REGRESSIOM_MODEL if IS_REGRESSION else CLASSIFICATION_MODEL\n",
    "    feature_columns= list(X.columns)\n",
    "    # create lists for all of the results of the folds (the list lendth will eventually be k)\n",
    "    mul_accuracy_list , mul_method_list, uni_accuracy_list, uni_detialed_dict_list= [], [], [],[]\n",
    "    # create a k-fold for cross validation\n",
    "    kf = KFold(n_splits=FOLD_K, shuffle=True, random_state=5)\n",
    "    #iterate over all folds\n",
    "    best_results[\"uni\"]={\"average_result\": None, \"filtered_col\":[]}\n",
    "    best_results[\"multi\"] ={\"average_result\": None, \"results\":[], \"best_methods\":[]}\n",
    "    for i, (train_index, test_index) in enumerate(kf.split(X)):\n",
    "        f_fold = open(outdir + '\/iterations_fold ' +str(i)+'.csv', 'w')\n",
    "\n",
    "        if (not USE_K_FOLD and i==1):\n",
    "            break\n",
    "        \n",
    "        print(\"&&&&      multivariate outlier methods comparison   &&&&&&\" )\n",
    "        # get X and y according to fold's indexes\n",
    "        X_train, y_train, X_test, y_test = X.iloc[train_index], y.iloc[train_index], X.iloc[test_index], y.iloc[test_index]\n",
    "        # evaluate  multivariate methods, and save best method and accuracy\n",
    "        best_method, best_result_multivariate, number_of_outliers_dict = multivariate_outliers(\n",
    "            IS_REGRESSION, X_test, X_train, model, y_test, y_train)\n",
    "        mul_accuracy_list.append(best_result_multivariate)\n",
    "        mul_method_list.append(best_method)\n",
    "\n",
    "        print(\"best model and best result multivariate outlier detection: \\n\"+best_method+'\\n'+str(best_result_multivariate))\n",
    "\n",
    "        best_results[\"multi\"][\"best_methods\"].append(best_method)\n",
    "        best_results[\"multi\"][\"results\"].append(best_result_multivariate)\n",
    "\n",
    "        print(\"*************Univaraite Outliers*****************\")\n",
    "\n",
    "\n",
    "        best_accuracy_global, filtered_col, filtered_columns_dict = univariate_outliers(X_train, X_test, y_train,\n",
    "                                                                                        y_test, feature_columns, model,\n",
    "                                                                                        IS_REGRESSION)\n",
    "\n",
    "        # print the treated (filtered)  columns by order and statitics\n",
    "        if(len(filtered_col)>0):\n",
    "            print(\",\".join(filtered_columns_dict[filtered_col[0]].keys()), file= f_fold)\n",
    "            for col in filtered_col:\n",
    "                print(\",\".join([str(x) for x in filtered_columns_dict[col].values()]), file=f_fold)\n",
    "        best_results[\"uni\"][\"filtered_col\"].append(filtered_columns_dict)\n",
    "        f_fold.close()\n",
    "        uni_accuracy_list.append(best_accuracy_global)\n",
    "        uni_detialed_dict_list.append(filtered_columns_dict)\n",
    "    print(\"best model and best result multivariate outlier detection:\")\n",
    "    print(mul_method_list)\n",
    "    best_results[\"multi\"][\"average_result\"]=round(np.average(mul_accuracy_list), 3)\n",
    "    print( best_results[\"multi\"][\"average_result\"])\n",
    "    print(\"best model and best result univariate outlier detection:\")\n",
    "    best_results[\"uni\"][\"average_result\"]= round(np.average(uni_accuracy_list) ,3)\n",
    "    print(best_results[\"uni\"][\"average_result\"])\n",
    "\n",
    "    print(uni_detialed_dict_list)\n",
    "\n",
    "    return best_results\n"
   ],
   "execution_count":22,
   "outputs":[
    
   ],
   "metadata":{
    "datalore":{
     "node_id":"EYHw8smuFHJXBHlNQVnCvE",
     "type":"CODE",
     "hide_input_from_viewers":false,
     "hide_output_from_viewers":false
    }
   }
  },
  {
   "cell_type":"markdown",
   "source":[
    "## Create a function for (another) baseline evaluations- without outlier handling at all"
   ],
   "attachments":{
    
   },
   "metadata":{
    "datalore":{
     "node_id":"fu7MgfApWoFyM6SzNS7i6R",
     "type":"MD",
     "hide_input_from_viewers":false,
     "hide_output_from_viewers":false
    }
   }
  },
  {
   "cell_type":"code",
   "source":[
    "\"\"\"\n",
    "The function evaluates the given dataset with baseline methods: 1. no outlier detection or treatment 2. normalization of all the data\n",
    "\"\"\"\n",
    "def evaluate_baseline(X, y, info, IS_REGRESSION):\n",
    "    model = REGRESSIOM_MODEL if IS_REGRESSION else CLASSIFICATION_MODEL\n",
    "    # split into train and test sets using cross validation technique\n",
    "    kf = KFold(n_splits=FOLD_K, shuffle=True, random_state=2)\n",
    "    #normalization_accuracy_list= []\n",
    "    no_treatment_accuracy_list=[]\n",
    "    # for each fold - divide so that the train will be the remaining\n",
    "    for i, (train_index, test_index) in enumerate(kf.split(X)):\n",
    "        if (not USE_K_FOLD and i==1):\n",
    "            continue\n",
    "        X_train, y_train = X.iloc[train_index], y.iloc[train_index]\n",
    "        X_test, y_test =  X.iloc[test_index], y.iloc[test_index]\n",
    "        # get and save the accuracy of both baselines\n",
    "        no_treatment_accuracy= fit_model_and_evaluate_accuracy(X_train,y_train,   X_test,y_test, model,IS_REGRESSION  )\n",
    "        #normalization_accuracy= evaluate_with_simple_normailization(X_train, y_train, X_test, y_test, model, IS_REGRESSION)\n",
    "\n",
    "        no_treatment_accuracy_list.append(no_treatment_accuracy)\n",
    "        #normalization_accuracy_list.append(normalization_accuracy)\n",
    "    average_accuracy_no_treament= round(np.mean(no_treatment_accuracy), 3)\n",
    "    #average_accuracy_normalization = round(np.mean(normalization_accuracy), 3)\n",
    "\n",
    "    return average_accuracy_no_treament"
   ],
   "execution_count":23,
   "outputs":[
    
   ],
   "metadata":{
    "datalore":{
     "node_id":"yaGzGanF8MO8Ci2IWxAtKd",
     "type":"CODE",
     "hide_input_from_viewers":false,
     "hide_output_from_viewers":false
    }
   }
  },
  {
   "cell_type":"code",
   "source":[
    "nba_rookie_dataset= {\"name\":\"nba rookie\", \"path\":\"\/data\/notebook_files\/data_sets\/nba_rookie.csv\",  \"type\": \"binary_class\" }\n",
    "breast_cancer_dataset= {\"name\":\"breast  cancer\", \"path\":\"\/data\/notebook_files\/data_sets\/breast_cancer_dataset.csv\",  \"type\": \"binary_class\"}\n",
    "\n",
    "dataset_dict= nba_rookie_dataset\n",
    "\n",
    "IS_REGRESSION= (dataset_dict[\"type\"] == \"regression\")\n",
    "\n",
    "df = read_csv(dataset_dict[\"path\"])\n",
    "df = impute(df)  # todo- more imputation methods ?- FWork\n",
    "# split into feature and label elements\n",
    "X, y = split_into_X_and_y(df, dataset_dict)\n",
    "#evaluiate without outlier handing and with normalization\n",
    "accuracy_with_outliers= evaluate_baseline(X, y, dataset_dict, IS_REGRESSION)\n",
    "print(\"accuracy with outliers (baseline)\")\n",
    "print(\"accuracy with outliers (baseline)\", file = f)\n",
    "print(accuracy_with_outliers)\n",
    "\n",
    "\n",
    "print(\"accuracy without outliers\")\n",
    "print(\"accuracy without outliers\", file=f)\n",
    "best_results= detect_and_treat_outliers(X,y, IS_REGRESSION)\n",
    "multivariate_methods, multivariate_accuracy = best_results[\"multi\"][\"best_methods\"],  best_results[\"multi\"][\"average_result\"]\n",
    "most_common_mul_method=  max(set(multivariate_methods), key=multivariate_methods.count)\n",
    "\n",
    "#\n",
    "univariate_accuracy = best_results[\"uni\"][\"average_result\"]\n",
    "results_list= [dataset_dict[\"name\"], str(accuracy_with_outliers),str(multivariate_accuracy), most_common_mul_method, str(univariate_accuracy)]\n",
    "print(multivariate_methods)\n",
    "print (\" & \".join(results_list))"
   ],
   "execution_count":24,
   "outputs":[
    {
     "name":"stdout",
     "text":[
      "accuracy with outliers (baseline)\n",
      "0.632\n",
      "accuracy without outliers\n",
      "***************************************************************\n",
      "&&&&      multivariate outlier methods comparison   &&&&&&\n",
      "*** isolation forest***\n",
      "number of outliers :112\n",
      "accuracy after dropping outliers :0.652\n",
      "*** ellipicit_envelope***\n",
      "number of outliers :12\n",
      "accuracy after dropping outliers :0.662\n",
      "*** local outlier factor***\n",
      "number of outliers :20\n",
      "accuracy after dropping outliers :0.65\n",
      "*** one class svm***\n",
      "number of outliers :12\n",
      "accuracy after dropping outliers :0.666\n",
      "*** guassian_model***\n",
      "number of outliers :56\n",
      "accuracy after dropping outliers :0.641\n",
      "best model and best result multivariate outlier detection: \n",
      "one class svm\n",
      "0.665911569762564\n",
      "*************Univaraite Outliers*****************\n",
      "iteration  #1 --->\n",
      "improvenemt found!\n",
      "column: 3P%, detection method: mad, treatment method: median\n",
      "improvenemt =0.6884\n",
      "current AUC 0.688\n",
      "iteration  #2 --->\n",
      "improvenemt found!\n",
      "column: FTA, detection method: iqr, treatment method: drop\n",
      "improvenemt =0.0109\n",
      "current AUC 0.699\n",
      "iteration  #3 --->\n",
      "improvenemt found!\n",
      "column: TOV, detection method: iqr, treatment method: drop\n",
      "improvenemt =0.0063\n",
      "current AUC 0.706\n",
      "iteration  #4 --->\n",
      "improvenemt found!\n",
      "column: FT%, detection method: mad, treatment method: floored_and_capped\n",
      "improvenemt =0.0016\n",
      "current AUC 0.707\n",
      "iteration  #5 --->\n",
      "improvenemt found!\n",
      "column: FG%, detection method: iqr, treatment method: median\n",
      "improvenemt =0.0016\n",
      "current AUC 0.709\n",
      "iteration  #6 --->\n",
      "no improvenemt- the process  halted\n",
      "best model and best result multivariate outlier detection:\n",
      "['one class svm']\n",
      "0.666\n",
      "best model and best result univariate outlier detection:\n",
      "0.709\n",
      "[{'3P%': {'column name': '3P%', 'number of outliers': 3, 'best detection': 'mad', 'best treatment': 'median', 'performance after treating': 0.6883547277456163, 'improvement': 0.6884}, 'FTA': {'column name': 'FTA', 'number of outliers': 55, 'best detection': 'iqr', 'best treatment': 'drop', 'performance after treating': 0.6993036328551052, 'improvement': 0.0109}, 'TOV': {'column name': 'TOV', 'number of outliers': 42, 'best detection': 'iqr', 'best treatment': 'drop', 'performance after treating': 0.7055961070559611, 'improvement': 0.0063}, 'FT%': {'column name': 'FT%', 'number of outliers': 6, 'best detection': 'mad', 'best treatment': 'floored_and_capped', 'performance after treating': 0.7071482506921722, 'improvement': 0.0016}, 'FG%': {'column name': 'FG%', 'number of outliers': 16, 'best detection': 'iqr', 'best treatment': 'median', 'performance after treating': 0.7087003943283834, 'improvement': 0.0016}}]\n",
      "['one class svm']\n",
      "nba rookie & 0.632 & 0.666 & one class svm & 0.709\n"
     ],
     "output_type":"stream"
    },
    {
     "name":"stderr",
     "text":[
      "\/opt\/python\/envs\/default\/lib\/python3.8\/site-packages\/sklearn\/base.py:445: UserWarning: X does not have valid feature names, but IsolationForest was fitted with feature names\n",
      "  warnings.warn(\n"
     ],
     "output_type":"stream"
    }
   ],
   "metadata":{
    "datalore":{
     "node_id":"WvhzGuDMBOB4TIsTqfZzPx",
     "type":"CODE",
     "hide_input_from_viewers":false,
     "hide_output_from_viewers":false
    }
   }
  },
  {
   "cell_type":"markdown",
   "source":[
    "# MAIN RESULTS \n",
    "\n",
    "In this example- the univariate outlier process (IUOP) significanly outperformed the baseline and the multivariate methods! \n",
    "**IUOP gave a 0.709 (!) AUC while the basline got only 0.632\n",
    "and the best  multivariate method in terms of AUC, isolation forest,  got 0.669.**\n",
    "\n",
    "Try the other datasets and see how IUOP consistently outperforms the baseline and multivariate methods!!!"
   ],
   "attachments":{
    
   },
   "metadata":{
    "datalore":{
     "node_id":"J48g791RfmZWwsfYBsjDrc",
     "type":"MD",
     "hide_input_from_viewers":false,
     "hide_output_from_viewers":false
    }
   }
  },
  {
   "cell_type":"markdown",
   "source":[
    "## Outlier Visualization \n",
    "\n",
    "After viewing the output of the IUOP process, we can see that some columns had more benefit in outlier handling: 3P% (percentage of succesful 3 pointer shots), FTA (Percent of  Free Throws Attempted), TOV(turnovers), FT%, FG%. \n",
    "\n",
    "Now we can visualise these columns in order to get an idea of why these columns were chosen:"
   ],
   "attachments":{
    
   },
   "metadata":{
    "datalore":{
     "node_id":"j9pdb1qTRdD36jbrnD8Ulv",
     "type":"MD",
     "hide_input_from_viewers":false,
     "hide_output_from_viewers":false
    }
   }
  },
  {
   "cell_type":"markdown",
   "source":[
    "We will first define functions for histogram distribution visualisation and for boxplot distribution.  "
   ],
   "attachments":{
    
   },
   "metadata":{
    "datalore":{
     "node_id":"xj180zUOGM5kslFSdHGoIM",
     "type":"MD",
     "hide_input_from_viewers":false,
     "hide_output_from_viewers":false
    }
   }
  },
  {
   "cell_type":"code",
   "source":[
    "import matplotlib.pyplot as plt\n",
    "import seaborn as sns \n",
    "\n",
    "\n",
    "def plot_univariate_distribution(data, feature_name= \"feature value\", title=\"feature distribution\" , outdir= \"\\\\\"):\n",
    "    sns.displot(data,kde = True)\n",
    "    #label the axis\n",
    "    plt.xlabel(feature_name, fontsize = 15)\n",
    "    plt.ylabel(\"Count\", fontsize = 15)\n",
    "    plt.title(title, fontsize = 15)\n",
    "    plt.show()\n",
    "\n",
    "def plot_univariate_boxplot(data, feature_name=\"feature value\", title=\"feature boxplot\", outdir= \"\\\\\"):\n",
    "    #create the boxplot\n",
    "    ax = sns.boxplot(x = data)\n",
    "    #add labels to the plot\n",
    "    ax.set_xlabel(feature_name, fontsize = 15)\n",
    "    ax.set_ylabel(\"Variable\", fontsize = 15)\n",
    "    ax.set_title(title, fontsize =20, pad = 20)\n",
    "    plt.show()"
   ],
   "execution_count":25,
   "outputs":[
    
   ],
   "metadata":{
    "datalore":{
     "node_id":"ETDWfsTweVRuVaISvL8Kgd",
     "type":"CODE",
     "hide_input_from_viewers":false,
     "hide_output_from_viewers":false
    }
   }
  },
  {
   "cell_type":"markdown",
   "source":[
    "Now we will visualise all the handled features: 3P% , FTA , TOV, FT%, FG%. "
   ],
   "attachments":{
    
   },
   "metadata":{
    "datalore":{
     "node_id":"fA5KwQBHixepLnCAFLXRuB",
     "type":"MD",
     "hide_input_from_viewers":false,
     "hide_output_from_viewers":false
    }
   }
  },
  {
   "cell_type":"code",
   "source":[
    "nba_rookie_dataset= {\"name\":\"nba rookie\", \"path\":\"\/data\/notebook_files\/data_sets\/nba_rookie.csv\",  \"type\": \"binary_class\" }\n",
    "\n",
    "\n",
    "from pandas import read_csv\n",
    "df = read_csv(nba_rookie_dataset[\"path\"])\n",
    "for col in [\"3P%\" , \"FTA\" , \"TOV\", \"FT%\", \"FG%\"]:\n",
    "    plot_univariate_distribution(df[col], col, title=col+ \" feature distribution \")\n",
    "    plot_univariate_boxplot(df[col], col, title=col+ \" feature boxplot \")\n"
   ],
   "execution_count":26,
   "outputs":[
    {
     "data":{
      "image\/png":"[encoded data removed]"
     },
     "metadata":{
      "image\/png":{
       
      }
     },
     "output_type":"display_data"
    },
    {
     "data":{
      "image\/png":"[encoded data removed]"
     },
     "metadata":{
      "image\/png":{
       
      }
     },
     "output_type":"display_data"
    },
    {
     "data":{
      "image\/png":"[encoded data removed]"
     },
     "metadata":{
      "image\/png":{
       
      }
     },
     "output_type":"display_data"
    },
    {
     "data":{
      "image\/png":"[encoded data removed]"
     },
     "metadata":{
      "image\/png":{
       
      }
     },
     "output_type":"display_data"
    },
    {
     "data":{
      "image\/png":"[encoded data removed]"
     },
     "metadata":{
      "image\/png":{
       
      }
     },
     "output_type":"display_data"
    },
    {
     "data":{
      "image\/png":"[encoded data removed]"
     },
     "metadata":{
      "image\/png":{
       
      }
     },
     "output_type":"display_data"
    },
    {
     "data":{
      "image\/png":"[encoded data removed]"
     },
     "metadata":{
      "image\/png":{
       
      }
     },
     "output_type":"display_data"
    },
    {
     "data":{
      "image\/png":"[encoded data removed]"
     },
     "metadata":{
      "image\/png":{
       
      }
     },
     "output_type":"display_data"
    },
    {
     "data":{
      "image\/png":"[encoded data removed]"
     },
     "metadata":{
      "image\/png":{
       
      }
     },
     "output_type":"display_data"
    },
    {
     "data":{
      "image\/png":"[encoded data removed]"
     },
     "metadata":{
      "image\/png":{
       
      }
     },
     "output_type":"display_data"
    }
   ],
   "metadata":{
    "datalore":{
     "node_id":"jy4I3c7PaciRgbCwMaTBCw",
     "type":"CODE",
     "hide_input_from_viewers":false,
     "hide_output_from_viewers":false
    }
   }
  }
 ],
 "metadata":{
  "kernelspec":{
   "display_name":"Python",
   "language":"python",
   "name":"python"
  },
  "datalore":{
   "version":1,
   "computation_mode":"JUPYTER",
   "package_manager":"pip",
   "base_environment":"default",
   "packages":[
    
   ]
  }
 },
 "nbformat":4,
 "nbformat_minor":4
}